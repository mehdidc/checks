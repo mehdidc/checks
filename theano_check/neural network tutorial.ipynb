{
 "metadata": {
  "name": "",
  "signature": "sha256:0df68577e0f4083b71a7489035890071a91ee2f6fff883416c01cdce264b8455"
 },
 "nbformat": 3,
 "nbformat_minor": 0,
 "worksheets": [
  {
   "cells": [
    {
     "cell_type": "code",
     "collapsed": false,
     "input": [
      "from theano import function, config, shared, sandbox\n",
      "import theano.tensor as T\n",
      "import numpy\n",
      "import time\n",
      "import matplotlib.pyplot as plt\n",
      "%matplotlib inline\n"
     ],
     "language": "python",
     "metadata": {},
     "outputs": []
    },
    {
     "cell_type": "code",
     "collapsed": false,
     "input": [],
     "language": "python",
     "metadata": {},
     "outputs": []
    }
   ],
   "metadata": {}
  }
 ]
}