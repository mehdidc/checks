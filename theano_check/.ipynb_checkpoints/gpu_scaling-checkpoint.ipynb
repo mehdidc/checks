{
 "metadata": {
  "name": "",
  "signature": "sha256:31a63e4a33e55ac5c966fbae2e8371e851b61a47e6a1b2eace3bb4cb67ed5e9c"
 },
 "nbformat": 3,
 "nbformat_minor": 0,
 "worksheets": [
  {
   "cells": [
    {
     "cell_type": "code",
     "collapsed": false,
     "input": [
      "from theano import function, config, shared, sandbox\n",
      "import theano.tensor as T\n",
      "import numpy\n",
      "import time\n",
      "import matplotlib.pyplot as plt\n",
      "%matplotlib inline\n",
      "def launch(iters=200, nb_examples=1000, dimension=28*28, hidden_layer_dim=500):\n",
      "    \n",
      "    # Setting matrices shapes\n",
      "    size_1 = (nb_examples, dimension)\n",
      "    \n",
      "    size_2 = (dimension, hidden_layer_dim)\n",
      "    \n",
      "    rng = numpy.random.RandomState(int(time.time()))\n",
      "    \n",
      "    # Init input matrix\n",
      "    m1 = shared(numpy.asarray(rng.normal(size=size_1), config.floatX))\n",
      "    # Init weight matrix\n",
      "    m2 = shared(numpy.asarray(rng.normal(size=size_2), config.floatX))\n",
      "    # Init bias matrix\n",
      "    bias = shared(numpy.asarray(rng.normal(size=(size_2[1],) ), config.floatX))\n",
      "\n",
      "    F = sandbox.cuda.basic_ops.gpu_from_host # if this function not used, when we will call f(), \n",
      "                                             # in each iteration the result will be copied\n",
      "                                             # from the gpu to the memory\n",
      "    \n",
      "    # Instantiate the theano function which computes the values of the hidden layer\n",
      "    f = function([], F(T.tanh(T.dot(m1, m2)+bias)) )\n",
      "    \n",
      "    # Repeat the same operation iters time and return the delay\n",
      "    t0 = time.time()\n",
      "    for i in xrange(iters):\n",
      "        r = f()\n",
      "    t1 = time.time()\n",
      "    return t1 - t0\n",
      "\n",
      "def get_times(values, variable_name, func=launch):\n",
      "    times = [launch(**{variable_name: value}) for value in values]\n",
      "    return times\n",
      "\n",
      "def plot_values_time(values, times, variable_name):\n",
      "    plt.plot(values, times)\n",
      "    plt.xlabel(variable_name)\n",
      "    plt.ylabel('time in seconds')\n",
      "    plt.show()\n",
      "    "
     ],
     "language": "python",
     "metadata": {},
     "outputs": [],
     "prompt_number": 21
    },
    {
     "cell_type": "markdown",
     "metadata": {},
     "source": [
      "**Dimension of the input /  Time**"
     ]
    },
    {
     "cell_type": "code",
     "collapsed": false,
     "input": [
      "dimensions = range(10, 1000, 10)\n",
      "dimensions_times = get_times(dimensions, \"dimension\")"
     ],
     "language": "python",
     "metadata": {},
     "outputs": [],
     "prompt_number": 26
    },
    {
     "cell_type": "code",
     "collapsed": false,
     "input": [
      "plot_values_time(dimensions, dimensions_times, \"dimension of the input\")"
     ],
     "language": "python",
     "metadata": {},
     "outputs": [
      {
       "metadata": {},
       "output_type": "display_data",
       "png": "[encoded data removed]",
       "text": [
        "<matplotlib.figure.Figure at 0x7f1613052650>"
       ]
      }
     ],
     "prompt_number": 27
    },
    {
     "cell_type": "markdown",
     "metadata": {},
     "source": [
      "** Nb of examples / time **"
     ]
    },
    {
     "cell_type": "code",
     "collapsed": false,
     "input": [
      "nb_examples = range(10, 1000, 10)\n",
      "nb_examples_times = get_times(nb_examples, \"nb_examples\")"
     ],
     "language": "python",
     "metadata": {},
     "outputs": []
    },
    {
     "cell_type": "code",
     "collapsed": false,
     "input": [
      "plot_values_time(dimensions, nb_examples_times, \"number of examples\")"
     ],
     "language": "python",
     "metadata": {},
     "outputs": []
    },
    {
     "cell_type": "markdown",
     "metadata": {},
     "source": [
      "**Hidden layer / time**"
     ]
    },
    {
     "cell_type": "code",
     "collapsed": false,
     "input": [
      "hidden_layer_dims = range(100, 500, 10)\n",
      "hidden_layer_dims_times = get_times(hidden_layer_dims, \"hidden_layer_dim\")"
     ],
     "language": "python",
     "metadata": {},
     "outputs": []
    },
    {
     "cell_type": "code",
     "collapsed": false,
     "input": [
      "plot_values_time(hidden_layer_dims, hidden_layer_dims_times, \"dimension of the hidden layer\")"
     ],
     "language": "python",
     "metadata": {},
     "outputs": []
    }
   ],
   "metadata": {}
  }
 ]
}