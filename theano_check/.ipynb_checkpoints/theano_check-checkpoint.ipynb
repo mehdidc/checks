{
 "metadata": {
  "name": "",
  "signature": "sha256:f3d7f7422d5cb64e39679debe081f51eadd7e65bed1e30762863617ebb5355e6"
 },
 "nbformat": 3,
 "nbformat_minor": 0,
 "worksheets": [
  {
   "cells": [
    {
     "cell_type": "markdown",
     "metadata": {},
     "source": [
      "***Check 1 :applying exp to a random vector of size=230400 1000 times***"
     ]
    },
    {
     "cell_type": "code",
     "collapsed": false,
     "input": [
      "# use CPU\n",
      "!THEANO_FLAGS='device=cpu' python check1.py"
     ],
     "language": "python",
     "metadata": {},
     "outputs": [
      {
       "output_type": "stream",
       "stream": "stdout",
       "text": [
        "[Elemwise{exp,no_inplace}(<TensorType(float32, vector)>)]\r\n"
       ]
      },
      {
       "output_type": "stream",
       "stream": "stdout",
       "text": [
        "Looping 1000 times took 34.6646709442 seconds\r\n",
        "Result is "
       ]
      },
      {
       "output_type": "stream",
       "stream": "stdout",
       "text": [
        "[ 1.23178029  1.61879337  1.52278066 ...,  2.20771813  2.29967761\r\n",
        "  1.62323284]\r\n",
        "Numpy result is [ 1.23178029  1.61879337  1.52278066 ...,  2.20771813  2.29967761\r\n",
        "  1.62323284]\r\n",
        "Used the cpu\r\n"
       ]
      }
     ],
     "prompt_number": 3
    },
    {
     "cell_type": "code",
     "collapsed": false,
     "input": [
      "# use GPU\n",
      "!THEANO_FLAGS='device=gpu' python check1.py"
     ],
     "language": "python",
     "metadata": {},
     "outputs": [
      {
       "output_type": "stream",
       "stream": "stdout",
       "text": [
        "Using gpu device 0: GeForce GTX TITAN\r\n"
       ]
      },
      {
       "output_type": "stream",
       "stream": "stdout",
       "text": [
        "[GpuElemwise{exp,no_inplace}(<CudaNdarrayType(float32, vector)>)]\r\n"
       ]
      },
      {
       "output_type": "stream",
       "stream": "stdout",
       "text": [
        "Looping 1000 times took 0.531321048737 seconds\r\n",
        "Result is [ 1.23178029  1.61879349  1.52278066 ...,  2.20771813  2.29967761\r\n",
        "  1.62323296]\r\n",
        "Used the gpu\r\n"
       ]
      }
     ],
     "prompt_number": 4
    },
    {
     "cell_type": "markdown",
     "metadata": {},
     "source": [
      "**Check 2 : typical neural network forwarding for one hidden layer M1=(1000, 28x28) M2=(28x28, 500) bias=(500,)**\n",
      "\n",
      "**the formula used is : $tanh(M1 * M2 + bias)$ **"
     ]
    },
    {
     "cell_type": "code",
     "collapsed": false,
     "input": [
      "# use CPU\n",
      "!THEANO_FLAGS='device=cpu' python check2.py"
     ],
     "language": "python",
     "metadata": {},
     "outputs": [
      {
       "output_type": "stream",
       "stream": "stdout",
       "text": [
        "[InplaceDimShuffle{x,0}(<TensorType(float32, vector)>), Dot22(<TensorType(float32, matrix)>, <TensorType(float32, matrix)>), Elemwise{Composite{[tanh(add(i0, i1))]}}[(0, 0)](Dot22.0, InplaceDimShuffle{x,0}.0)]\r\n"
       ]
      },
      {
       "output_type": "stream",
       "stream": "stdout",
       "text": [
        "Looping 1000 times took 30.5462648869 seconds\r\n",
        "Result is [[-1.          1.         -1.         ..., -1.         -0.99865806  1.        ]\r\n",
        " [-0.96204662 -1.          1.         ...,  1.         -1.         -1.        ]\r\n",
        " [ 1.         -0.58882922  0.98972464 ...,  1.         -1.          1.        ]\r\n",
        " ..., \r\n",
        " [-1.          1.          1.         ...,  1.         -0.99999481  1.        ]\r\n",
        " [ 0.64142042  1.          1.         ..., -0.93884009  1.         -1.        ]\r\n",
        " [ 1.          1.          1.         ...,  1.         -1.         -1.        ]]\r\n",
        "Used the cpu\r\n"
       ]
      }
     ],
     "prompt_number": 6
    },
    {
     "cell_type": "code",
     "collapsed": false,
     "input": [
      "# use GPU\n",
      "!THEANO_FLAGS='device=gpu' python check2.py"
     ],
     "language": "python",
     "metadata": {},
     "outputs": [
      {
       "output_type": "stream",
       "stream": "stdout",
       "text": [
        "Using gpu device 0: GeForce GTX TITAN\r\n"
       ]
      },
      {
       "output_type": "stream",
       "stream": "stdout",
       "text": [
        "[GpuDimShuffle{x,0}(<CudaNdarrayType(float32, vector)>), GpuDot22(<CudaNdarrayType(float32, matrix)>, <CudaNdarrayType(float32, matrix)>), GpuElemwise{Composite{[tanh(add(i0, i1))]}}[(0, 0)](GpuDot22.0, GpuDimShuffle{x,0}.0)]\r\n"
       ]
      },
      {
       "output_type": "stream",
       "stream": "stdout",
       "text": [
        "Looping 1000 times took 1.05497908592 seconds\r\n",
        "Result is [[-1.          1.         -1.         ..., -1.         -0.99865806  1.        ]\r\n",
        " [-0.9620468  -1.          1.         ...,  1.         -1.         -1.        ]\r\n",
        " [ 1.         -0.58883268  0.98972452 ...,  1.         -1.          1.        ]\r\n",
        " ..., \r\n",
        " [-1.          1.          1.         ...,  1.         -0.99999481  1.        ]\r\n",
        " [ 0.64141905  1.          1.         ..., -0.93883908  1.         -1.        ]\r\n",
        " [ 1.          1.          1.         ...,  1.         -1.         -1.        ]]\r\n",
        "Used the gpu\r\n"
       ]
      }
     ],
     "prompt_number": 5
    },
    {
     "cell_type": "markdown",
     "metadata": {},
     "source": [
      "***Check 3 : Convolution as it is done in neural networks***\n",
      "\n",
      "The input is 1000 examples of (28, 28) and there are 256 filters of size (5, 5), after getting the new images, we apply a tanh.\n",
      "The formula used is : $tanh(M1 *_{convop} M2)$ where M1 is an array of size (1000, 28, 28) and M2 an array of size (256, 5, 5)\n",
      "The process is repeated 100 times.\n",
      "\n"
     ]
    },
    {
     "cell_type": "code",
     "collapsed": false,
     "input": [
      "!THEANO_FLAGS='device=cpu' python check3.py"
     ],
     "language": "python",
     "metadata": {},
     "outputs": [
      {
       "output_type": "stream",
       "stream": "stdout",
       "text": [
        "[ConvOp{('imshp', None),('kshp', None),('nkern', None),('bsize', None),('dx', 1),('dy', 1),('out_mode', 'valid'),('unroll_batch', None),('unroll_kern', None),('unroll_patch', True),('imshp_logical', None),('kshp_logical', None),('kshp_logical_top_aligned', True)}(<TensorType(float32, 4D)>, <TensorType(float32, 4D)>), Elemwise{Tanh{output_types_preference=transfer_type{0}}}[(0, 0)](ConvOp{('imshp', None),('kshp', None),('nkern', None),('bsize', None),('dx', 1),('dy', 1),('out_mode', 'valid'),('unroll_batch', None),('unroll_kern', None),('unroll_patch', True),('imshp_logical', None),('kshp_logical', None),('kshp_logical_top_aligned', True)}.0)]\r\n"
       ]
      },
      {
       "output_type": "stream",
       "stream": "stdout",
       "text": [
        "Looping 100 times took 824.762485027 seconds\r\n",
        "Used the cpu\r\n"
       ]
      }
     ],
     "prompt_number": 8
    },
    {
     "cell_type": "code",
     "collapsed": false,
     "input": [
      "!THEANO_FLAGS='device=gpu' python check3.py"
     ],
     "language": "python",
     "metadata": {},
     "outputs": [
      {
       "output_type": "stream",
       "stream": "stdout",
       "text": [
        "Using gpu device 0: GeForce GTX TITAN\r\n"
       ]
      },
      {
       "output_type": "stream",
       "stream": "stdout",
       "text": [
        "[GpuConv{valid, (1, 1), None, None, True, None, None}(<CudaNdarrayType(float32, 4D)>, <CudaNdarrayType(float32, 4D)>), GpuElemwise{Tanh{output_types_preference=transfer_type{0}}}[(0, 0)](GpuConv{valid, (1, 1), None, None, True, None, None}.0)]\r\n"
       ]
      },
      {
       "output_type": "stream",
       "stream": "stdout",
       "text": [
        "Looping 100 times took 7.66855597496 seconds\r\n",
        "Used the gpu\r\n"
       ]
      }
     ],
     "prompt_number": 7
    },
    {
     "cell_type": "markdown",
     "metadata": {},
     "source": [
      "**Conclusion (so far):**\n",
      "    \n",
      "** using ONE GPU=57x speedup for a dense layer **\n",
      "\n",
      "** using ONE GPU=108x speedup for a convolution layer **"
     ]
    }
   ],
   "metadata": {}
  }
 ]
}